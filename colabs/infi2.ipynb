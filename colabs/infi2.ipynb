{
  "nbformat": 4,
  "nbformat_minor": 0,
  "metadata": {
    "colab": {
      "name": "infi2.ipynb",
      "provenance": [],
      "collapsed_sections": [],
      "authorship_tag": "ABX9TyPxRPz9oG3x4MJZrQVtMgyo",
      "include_colab_link": true
    },
    "kernelspec": {
      "name": "python3",
      "display_name": "Python 3"
    }
  },
  "cells": [
    {
      "cell_type": "markdown",
      "metadata": {
        "id": "view-in-github",
        "colab_type": "text"
      },
      "source": [
        "<a href=\"https://colab.research.google.com/github/orimosenzon/work/blob/master/colabs/infi2.ipynb\" target=\"_parent\"><img src=\"https://colab.research.google.com/assets/colab-badge.svg\" alt=\"Open In Colab\"/></a>"
      ]
    },
    {
      "cell_type": "code",
      "metadata": {
        "id": "sjVqqArUzywW",
        "colab_type": "code",
        "colab": {}
      },
      "source": [
        "from IPython.display import HTML"
      ],
      "execution_count": 0,
      "outputs": []
    },
    {
      "cell_type": "markdown",
      "metadata": {
        "id": "mOT_6GrWzqfF",
        "colab_type": "text"
      },
      "source": [
        "# Infi 2 "
      ]
    },
    {
      "cell_type": "markdown",
      "metadata": {
        "id": "xQvOFlyLDU5Q",
        "colab_type": "text"
      },
      "source": [
        "[The course](https://www.youtube.com/watch?v=TocsyPixEEQ&list=PLW3u28VuDAHJ6oveq15M0DmdbjCMO3H-7) given by Aviv Tsenzor in the Technion.\n",
        "\n",
        "הקורס חשבון אינפיניטסימלי 2מ' של הטכניון, מרצה ד\"ר אביב צנזור"
      ]
    },
    {
      "cell_type": "markdown",
      "metadata": {
        "id": "Bna5e7PIVuVb",
        "colab_type": "text"
      },
      "source": [
        "## 0. Reminders (things taught in infi1)"
      ]
    },
    {
      "cell_type": "markdown",
      "metadata": {
        "id": "BHN2Z8N-V8qq",
        "colab_type": "text"
      },
      "source": [
        " \n",
        " [משפט דארבו](https://he.wikipedia.org/wiki/%D7%9E%D7%A9%D7%A4%D7%98_%D7%93%D7%90%D7%A8%D7%91%D7%95):\n",
        " פונקציה שהיא נגזרת (כלומר, פונקציה שיש לה פונקציה קדומה) לא חייבת להיות רציפה, אבל היא מקיימת את תכונת ערך הביניים. כלומר לכל מספר בין הערכים של הפונרציה בקצוות, יש מקום שבו הפונקציה מקבלת את הערך הזה. "
      ]
    },
    {
      "cell_type": "markdown",
      "metadata": {
        "id": "y60NZ5SWDjTW",
        "colab_type": "text"
      },
      "source": [
        "## 1. The indefinite integral \n"
      ]
    },
    {
      "cell_type": "code",
      "metadata": {
        "id": "40AJ-CdF0eFA",
        "colab_type": "code",
        "colab": {
          "base_uri": "https://localhost:8080/",
          "height": 336
        },
        "outputId": "f0d46ccb-1f53-4f6b-a1f2-d75d0bbbeeda"
      },
      "source": [
        "HTML('<iframe width=\"560\" height=\"315\" src=\"https://www.youtube.com/embed/TocsyPixEEQ\" frameborder=\"0\" allow=\"accelerometer; autoplay; encrypted-media; gyroscope; picture-in-picture\" allowfullscreen></iframe>')"
      ],
      "execution_count": 3,
      "outputs": [
        {
          "output_type": "execute_result",
          "data": {
            "text/html": [
              "<iframe width=\"560\" height=\"315\" src=\"https://www.youtube.com/embed/TocsyPixEEQ\" frameborder=\"0\" allow=\"accelerometer; autoplay; encrypted-media; gyroscope; picture-in-picture\" allowfullscreen></iframe>"
            ],
            "text/plain": [
              "<IPython.core.display.HTML object>"
            ]
          },
          "metadata": {
            "tags": []
          },
          "execution_count": 3
        }
      ]
    },
    {
      "cell_type": "markdown",
      "metadata": {
        "id": "8k5UxyiDIVoI",
        "colab_type": "text"
      },
      "source": [
        "### Primitive function \n",
        "* [Antiderivative in Wikipedia](https://en.wikipedia.org/wiki/Antiderivative) "
      ]
    },
    {
      "cell_type": "markdown",
      "metadata": {
        "id": "h9XRIKz0Fakl",
        "colab_type": "text"
      },
      "source": [
        "**definition**: $F(x)$ is **primitive function**  of $f(x)$ in and interval $I$, if $\\forall x \\in I$: \n",
        "$$ F'(x) = f(x) $$ \n",
        "\n",
        "In hebrew: פונקציה קדומה\n",
        "\n",
        "Alternative termionlogy: Antiderivative, Inverse derivative, Primitive integral, Indefinite integral \n"
      ]
    },
    {
      "cell_type": "markdown",
      "metadata": {
        "id": "XbusSGIcIrkw",
        "colab_type": "text"
      },
      "source": [
        "**Theorem**: let $F$ be a primitive function of $f$ in $I$, the set of all primitive functions of f in $I$, is:\n",
        "$$ \\{ F(x) + C | C \\in {\\rm I\\!R} \\} $$\n",
        "\n",
        " \n",
        "<!---\n",
        "alternative real sign in latex \n",
        "$\\mathbb{R}$\n",
        "-->"
      ]
    },
    {
      "cell_type": "markdown",
      "metadata": {
        "id": "HSG1l8heO1qN",
        "colab_type": "text"
      },
      "source": [
        "**Notation**: the set of all primitive functions of $f$, $ \\{ F(x) + C | C \\in {\\rm I\\!R} \\} $, is denoted by:\n",
        "\n",
        "$$ \\int{f(x) dx}  $$"
      ]
    },
    {
      "cell_type": "markdown",
      "metadata": {
        "id": "HqHKu2joIGQS",
        "colab_type": "text"
      },
      "source": [
        "### Linearity of integral "
      ]
    },
    {
      "cell_type": "markdown",
      "metadata": {
        "id": "8wZj0mVFa0Ue",
        "colab_type": "text"
      },
      "source": [
        "**Theorm (primitive function arithmetic)**:\n",
        "$ \\forall a \\in {\\rm I\\!R} $:\n",
        "$$ \\int{a f(x) dx} = a \\int{ f(x) dx} = a F(x) + C $$\n",
        "\n",
        "$$ \\int{\\left(f(x) + g(x)\\right)dx} = \\int{f(x) dx} + \\int{g(x)dx} = F(x) + G(x) + C $$\n",
        "\n",
        "(not an exact notation, because we're dealing with sets)"
      ]
    },
    {
      "cell_type": "markdown",
      "metadata": {
        "id": "2W53hRg_Myk1",
        "colab_type": "text"
      },
      "source": [
        "### Immediate integrals"
      ]
    },
    {
      "cell_type": "markdown",
      "metadata": {
        "id": "XxUU4VavM9KZ",
        "colab_type": "text"
      },
      "source": [
        "#### Exponent \n",
        "$$ \\int e^x = e^x $$ \n",
        "$$ \\int a^x = \\frac{a^x}{\\ln a} $$"
      ]
    },
    {
      "cell_type": "markdown",
      "metadata": {
        "id": "9cJGKmlgJ8xf",
        "colab_type": "text"
      },
      "source": [
        "#### Trigonometric functions \n",
        "$$ \\int sin = -cos $$\n",
        "$$ \\int cos = sin $$\n",
        "$$ \\int \\frac{1}{cos^2} = tan $$\n",
        "$$ \\int \\frac{1}{\\sqrt{1-x^2}} = sin^{-1} $$\n",
        "$$ \\int \\frac{-1}{\\sqrt{1-x^2}} = cos^{-1} $$\n",
        "$$ \\int \\frac{1}{1+x^2} = tan^{-1} $$\n"
      ]
    },
    {
      "cell_type": "markdown",
      "metadata": {
        "id": "Dp5EBhzQIq07",
        "colab_type": "text"
      },
      "source": [
        "#### Power functions  "
      ]
    },
    {
      "cell_type": "markdown",
      "metadata": {
        "id": "xCG0IOy6iuuH",
        "colab_type": "text"
      },
      "source": [
        "$ \\forall n\\neq -1$: \n",
        "$$ \\int x^n dx = \\frac{x^{n+1}}{n+1} + C $$\n",
        "* [geo](https://www.geogebra.org/calculator/gttyaugu)\n",
        "\n"
      ]
    },
    {
      "cell_type": "markdown",
      "metadata": {
        "id": "LfTpKqFJI9U_",
        "colab_type": "text"
      },
      "source": [
        "#### $x^{-1}$\n",
        "$$ \\int x^{-1} dx = \\int{\\frac{1}{x}} dx = \\ln|x| + C $$ \n"
      ]
    },
    {
      "cell_type": "markdown",
      "metadata": {
        "id": "bN0FR099JJpJ",
        "colab_type": "text"
      },
      "source": [
        "#### $\\frac{f'(x)}{f(x)}$\n",
        "\n",
        "$$ \\int \\frac{f'(x)}{f(x)} dx =  \\ln |f(x)| + C $$"
      ]
    },
    {
      "cell_type": "markdown",
      "metadata": {
        "id": "4wDHRHVglBFZ",
        "colab_type": "text"
      },
      "source": [
        "### Integration by parts\n",
        "* [Integration by parts](https://en.wikipedia.org/wiki/Integration_by_parts) \n",
        "* [אינטגרציה בחלקים](https://he.wikipedia.org/wiki/%D7%90%D7%99%D7%A0%D7%98%D7%92%D7%A8%D7%A6%D7%99%D7%94_%D7%91%D7%97%D7%9C%D7%A7%D7%99%D7%9D)\n",
        "\n"
      ]
    },
    {
      "cell_type": "markdown",
      "metadata": {
        "id": "GebZjkQbHnQq",
        "colab_type": "text"
      },
      "source": [
        "$$ \\int u v' = uv - \\int u'v $$"
      ]
    },
    {
      "cell_type": "markdown",
      "metadata": {
        "id": "QrDh6D1KTILP",
        "colab_type": "text"
      },
      "source": [
        "#### examples \n",
        "\n",
        "$$ \\int {x e^x} = ... = xe^x - e^x $$\n",
        "\n",
        "$$ \\int \\tan^{-1} = \\int {1 \\cdot \\tan^{-1}}= ... = x \\tan^-1 - \\frac{1}{2} \\ln (1+x^2) + C $$\n",
        "(used $\\int \\frac{f'}{f}$)\n",
        "\n",
        "$$  \\int e^x \\cos x  = ..\\text{two  integration by parts} ..= \\frac{\\sin x + \\cos x}{2} e^x $$"
      ]
    },
    {
      "cell_type": "markdown",
      "metadata": {
        "id": "2583VIfQtGIM",
        "colab_type": "text"
      },
      "source": [
        "## 2. indefinite integral (Cont.)"
      ]
    },
    {
      "cell_type": "code",
      "metadata": {
        "id": "YrF_5Z7b0OWO",
        "colab_type": "code",
        "colab": {
          "base_uri": "https://localhost:8080/",
          "height": 336
        },
        "outputId": "2c2ee7fa-5d8e-4929-d268-bdf8281bae85"
      },
      "source": [
        "HTML('<iframe width=\"560\" height=\"315\" src=\"https://www.youtube.com/embed/N-hZf7dD_Cs\" frameborder=\"0\" allow=\"accelerometer; autoplay; encrypted-media; gyroscope; picture-in-picture\" allowfullscreen></iframe>')"
      ],
      "execution_count": 2,
      "outputs": [
        {
          "output_type": "execute_result",
          "data": {
            "text/html": [
              "<iframe width=\"560\" height=\"315\" src=\"https://www.youtube.com/embed/N-hZf7dD_Cs\" frameborder=\"0\" allow=\"accelerometer; autoplay; encrypted-media; gyroscope; picture-in-picture\" allowfullscreen></iframe>"
            ],
            "text/plain": [
              "<IPython.core.display.HTML object>"
            ]
          },
          "metadata": {
            "tags": []
          },
          "execution_count": 2
        }
      ]
    },
    {
      "cell_type": "markdown",
      "metadata": {
        "id": "HLVleD1qtPQO",
        "colab_type": "text"
      },
      "source": [
        "### Integration of rational fuunctions "
      ]
    },
    {
      "cell_type": "markdown",
      "metadata": {
        "id": "ukBJNOOy5EN4",
        "colab_type": "text"
      },
      "source": [
        "A rational function is a devision of polynomials. "
      ]
    },
    {
      "cell_type": "markdown",
      "metadata": {
        "id": "UxlP_hxU1dOk",
        "colab_type": "text"
      },
      "source": [
        "* In case when $deg(numerator) \\geq deg(denominator)$, use devision of polynomials:\n",
        "\n",
        "$$ \\int \\frac{2x^4-x^3-x^2+3x-4}{x^2+1} dx = \\int {2x^2-x-3 dx} + \\int \\frac{4x-1}{x^2+1} dx$$\n"
      ]
    },
    {
      "cell_type": "markdown",
      "metadata": {
        "id": "DdGI72g-_Y-Q",
        "colab_type": "text"
      },
      "source": [
        "* In case when the denominator can be factorized to different linear factors: \n",
        "$$ \\int \\frac{dx}{2x^2 + 9x -5} =  \\int \\frac{dx}{(2x-1)(x+5)}$$\n",
        "Use [partial fraction decomposition](https://en.wikipedia.org/wiki/Partial_fraction_decomposition)(פירוק לשברים חלקיים the oposite of common denominator): \n",
        "\n",
        "$$ \\frac{1}{(2x-1)(x+5)} = \\frac{A}{2x-1} + \\frac{B}{x+5}$$\n",
        "\n",
        "$$ 1 = A(x+5) + B(2x-1) $$\n",
        "$$ 1 = (A+2B)x + 5A-B $$ (equality of ploynomials)\n",
        "\n",
        "$$ \\begin{cases} \n",
        "0 = A+2B  \\\\\n",
        "1 = 5A-B \n",
        "\\end{cases}\n",
        "$$ \n",
        "$A=\\frac{2}{11}$, $B=-\\frac{1}{11}$\n",
        "\n",
        "$$\\int \\frac{dx}{(2x-1)(x+5)} = \\frac{2}{11} \\int \\frac{dx}{2x-1} - \\frac{1}{11} \\int \\frac{dx}{x+5} = \\frac{1}{11} \\ln|2x-1| - \\frac{1}{11} \\ln|x+5|+ C$$\n",
        "\n"
      ]
    },
    {
      "cell_type": "markdown",
      "metadata": {
        "id": "n95s4Oc-Kw50",
        "colab_type": "text"
      },
      "source": [
        "* In case the denominator can be factorized to linear factors with [multiplicity](https://en.wikipedia.org/wiki/Multiplicity_(mathematics)):\n",
        "$$ \\int \\frac{9x-5}{9x-6x+1} dx = \\int \\frac{9x-5}{(3x-1)^2} dx$$  \n",
        "\n",
        "Use partial fraction decomposition, like this:\n",
        "$$ \\frac{9x-5}{(3x-1)^2} = \\frac{A}{3x-1} + \\frac{B}{(3x-1)^2}$$\n",
        "\n",
        "$$ 9x - 5= (3x-1)A + B $$\n",
        "\n",
        "$$ \\begin{cases} \n",
        "9 = 3A  \\\\\n",
        "-5 = B-A  \n",
        "\\end{cases}\n",
        "$$ \n",
        "$A = 3$, $B=-2$ \n",
        "\n",
        "$$\n",
        "\\int \\frac{9x-5}{(3x-1)^2} dx  = \\int \\frac{3}{3x-1} dx - \\int \\frac{2}{(3x-1)^2} dx = \\ln|3x-1| + \\frac{2}{3(3x-1)} + C\n",
        "$$"
      ]
    },
    {
      "cell_type": "markdown",
      "metadata": {
        "id": "UmB3HBMJP4md",
        "colab_type": "text"
      },
      "source": [
        "## 3. indefinite integral (Cont.)"
      ]
    },
    {
      "cell_type": "code",
      "metadata": {
        "id": "1kFUAhiLTjD0",
        "colab_type": "code",
        "colab": {
          "base_uri": "https://localhost:8080/",
          "height": 336
        },
        "outputId": "4f71e054-6345-4d42-dbc7-5e6d37a445af"
      },
      "source": [
        "HTML('<iframe width=\"560\" height=\"315\" src=\"https://www.youtube.com/embed/3Fxgt0AyvUI\" frameborder=\"0\" allow=\"accelerometer; autoplay; encrypted-media; gyroscope; picture-in-picture\" allowfullscreen></iframe>')"
      ],
      "execution_count": 4,
      "outputs": [
        {
          "output_type": "execute_result",
          "data": {
            "text/html": [
              "<iframe width=\"560\" height=\"315\" src=\"https://www.youtube.com/embed/3Fxgt0AyvUI\" frameborder=\"0\" allow=\"accelerometer; autoplay; encrypted-media; gyroscope; picture-in-picture\" allowfullscreen></iframe>"
            ],
            "text/plain": [
              "<IPython.core.display.HTML object>"
            ]
          },
          "metadata": {
            "tags": []
          },
          "execution_count": 4
        }
      ]
    },
    {
      "cell_type": "markdown",
      "metadata": {
        "id": "ocyFSjt4QRDl",
        "colab_type": "text"
      },
      "source": [
        "### Integration of rational fuunctions (Cont.)"
      ]
    },
    {
      "cell_type": "markdown",
      "metadata": {
        "id": "Mwv8gOhe0C5p",
        "colab_type": "text"
      },
      "source": [
        "* Case when the denominator is a [prime polynomial](https://en.wikipedia.org/wiki/Irreducible_polynomial)(which cannot be factorized פולינום לא פריק) of degree 2:\n",
        "$$ \n",
        "\\int \\frac{4x-1}{x^2+1}dx = 2 \\int \\frac{2x}{x^2+1}dx + \\int \\frac{dx}{x^2+1} \n",
        "$$\n",
        "\n",
        "(this technique is called השלמה לנגזרת, I didn't find the english term)\n",
        "\n",
        "$$\n",
        "= 2 \\ln (x^2+1) + \\tan^{-1}(x) +C\n",
        "$$  "
      ]
    },
    {
      "cell_type": "markdown",
      "metadata": {
        "id": "RT9gbOBq_Bpy",
        "colab_type": "text"
      },
      "source": [
        "* Usage of [completing the square](https://en.wikipedia.org/wiki/Completing_the_square) (השלמה לריבוע)\n",
        "$$\n",
        "\\int \\frac{dx}{x^2-x+1} = \\int \\frac{dx}{(x-\\frac{1}{2})^2 + \\frac{3}{4}} \n",
        "$$\n",
        "Now, manipulating it to $(\\tan^{-1})'$\n",
        "$$\n",
        "= \\frac{4}{3} \\int \\frac{dx}{(\\frac{2}{\\sqrt{3}}(x-\\frac{1}{2}))^2 + 1} = \\frac{4}{3} \\frac{\\sqrt{3}}{2} \\tan^{-1}(\\frac{2}{\\sqrt{3}}(x-\\frac{1}{2})) + C\n",
        "$$\n",
        "\n",
        "$$\n",
        " = \\frac{2}{\\sqrt{3}} \\tan^{-1}(\\frac{2x-1}{\\sqrt{3}}) + C\n",
        "$$\n",
        "\n"
      ]
    },
    {
      "cell_type": "markdown",
      "metadata": {
        "id": "FqSok1D_aFK0",
        "colab_type": "text"
      },
      "source": [
        "* Combining \"completing the derivative\" and completing the square: \n",
        "\n",
        "first, completing the derivative:\n",
        "$$\n",
        "\\int \\frac{-x+2}{x^2-x+1}dx  = -\\frac{1}{2}\\int \\frac{2x-1}{x^2-x+1}dx + \\frac{3}{2} \\int \\frac{dx}{x^2-x+1}\n",
        "$$\n",
        "\n",
        "The first term is $\\ln$ now: \n",
        "$$\n",
        "= -\\frac{1}{2}\\ln|x^2-x+1| + \\frac{3}{2} \\int \\frac{dx}{x^2-x+1}\n",
        "$$\n",
        "\n",
        "We can complete the square in the last term. in fact, that's exactly what we did in the previous example. So:\n",
        "$$\n",
        "= -\\frac{1}{2}\\ln|x^2-x+1| + \\frac{3}{2} \\frac{2}{\\sqrt{3}} \\tan^{-1}(\\frac{2x-1}{\\sqrt{3}}) + C = -\\frac{1}{2}\\ln|x^2-x+1| + \\sqrt{3} \\tan^{-1}(\\frac{2x-1}{\\sqrt{3}}) + C \n",
        "$$"
      ]
    },
    {
      "cell_type": "markdown",
      "metadata": {
        "id": "Uwy1Q15Kh6vq",
        "colab_type": "text"
      },
      "source": [
        "* Case, in which the denominator is of $\\deg=3$, but we cam guess one root: \n",
        "$$\n",
        "\\int \\frac{dx}{(x^3+1)} \n",
        "$$\n",
        "Since $x=-1$ iss clearly a root, we can use polynomial devision to obtain: \n",
        "$$\n",
        "= \\int \\frac{dx}{(x+1)(x^2-x+1)} \n",
        "$$\n",
        "\n",
        "Partial fraction decomposition (one day, I'm going to look into it, maybe): \n",
        " $$\n",
        "\\frac{1}{(x+1)(x^2-x+1)} = \\frac{A}{x+1} + \\frac{Bx+C}{x^2-x+1} \n",
        " $$\n",
        "\n",
        "<br /> \n",
        " $$\n",
        "1 = A(x^2-x+1) + (Bx+C)(x+1)\n",
        " $$\n",
        "\n",
        " $$ \\begin{cases} \n",
        "0 = A+B  \\\\\n",
        "0 = B-A+C\\\\ \n",
        "1 = A + C  \n",
        "\\end{cases}\n",
        "$$ \n",
        "\n",
        "$A = \\frac{1}{3}, B = -\\frac{1}{3}, C = \\frac{2}{3}$ "
      ]
    },
    {
      "cell_type": "code",
      "metadata": {
        "id": "_vCkcO4nP8qb",
        "colab_type": "code",
        "colab": {}
      },
      "source": [
        ""
      ],
      "execution_count": 0,
      "outputs": []
    }
  ]
}