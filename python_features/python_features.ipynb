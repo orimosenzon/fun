{
 "cells": [
  {
   "cell_type": "markdown",
   "metadata": {},
   "source": [
    "## decorator\n"
   ]
  },
  {
   "cell_type": "markdown",
   "metadata": {},
   "source": [
    "### simple Closure "
   ]
  },
  {
   "cell_type": "code",
   "execution_count": 1,
   "metadata": {},
   "outputs": [],
   "source": [
    "def wrap(f, dec):\n",
    "    '''\n",
    "    f - a function that gets one argument\n",
    "    dec - decoration string to print \n",
    "    return - a closure function... \n",
    "    '''\n",
    "    def wrapper(x):\n",
    "        return dec + str(f(x)) + dec\n",
    "    return wrapper"
   ]
  },
  {
   "cell_type": "code",
   "execution_count": 2,
   "metadata": {},
   "outputs": [],
   "source": [
    "f1 = lambda x:x+1\n",
    "f2 = lambda x:x*2\n",
    "w1 = wrap(f1, '*')\n",
    "w2 = wrap(f2, 'hello')"
   ]
  },
  {
   "cell_type": "code",
   "execution_count": 3,
   "metadata": {},
   "outputs": [],
   "source": [
    "print(w1(5))\n",
    "print(w2(5))"
   ]
  },
  {
   "cell_type": "code",
   "execution_count": 4,
   "metadata": {},
   "outputs": [],
   "source": [
    "w3 = wrap(w1,'|')\n",
    "w3(7)"
   ]
  },
  {
   "cell_type": "code",
   "execution_count": 5,
   "metadata": {},
   "outputs": [
    {
     "data": {
      "text/plain": [
       "'OO&X<<ori]]X&OO'"
      ]
     },
     "execution_count": 5,
     "metadata": {},
     "output_type": "execute_result"
    }
   ],
   "source": [
    "wrap(wrap(wrap(lambda x: '<<' + str(x) + ']]', 'X'), '&'), 'OO')('ori')"
   ]
  },
  {
   "cell_type": "code",
   "execution_count": 6,
   "metadata": {},
   "outputs": [],
   "source": [
    "def create_add_five():\n",
    "    def f(x):\n",
    "        return x+5 \n",
    "    return f"
   ]
  },
  {
   "cell_type": "code",
   "execution_count": 7,
   "metadata": {},
   "outputs": [],
   "source": [
    "def create_mulby_3():\n",
    "    return lambda x: x*3 "
   ]
  },
  {
   "cell_type": "code",
   "execution_count": 8,
   "metadata": {},
   "outputs": [
    {
     "data": {
      "text/plain": [
       "11"
      ]
     },
     "execution_count": 8,
     "metadata": {},
     "output_type": "execute_result"
    }
   ],
   "source": [
    "create_add_five()(create_mulby_3()(2))"
   ]
  },
  {
   "cell_type": "code",
   "execution_count": 9,
   "metadata": {},
   "outputs": [
    {
     "data": {
      "text/plain": [
       "21"
      ]
     },
     "execution_count": 9,
     "metadata": {},
     "output_type": "execute_result"
    }
   ],
   "source": [
    "create_mulby_3()(create_add_five()(2))"
   ]
  },
  {
   "cell_type": "markdown",
   "metadata": {},
   "source": [
    "### Arbitrary number of arguments to a function "
   ]
  },
  {
   "cell_type": "code",
   "execution_count": 10,
   "metadata": {},
   "outputs": [
    {
     "name": "stdout",
     "output_type": "stream",
     "text": [
      "arguments: (1, 2, 'ori', False) type: <class 'tuple'>\n"
     ]
    }
   ],
   "source": [
    "def foo(*ar):\n",
    "    print('arguments:', ar, 'type:', type(ar))\n",
    "foo(1,2,'ori',False)"
   ]
  },
  {
   "cell_type": "code",
   "execution_count": 11,
   "metadata": {},
   "outputs": [
    {
     "name": "stdout",
     "output_type": "stream",
     "text": [
      "arguments: {'param': 17, 'another_param': 'stam'} type: <class 'dict'>\n"
     ]
    }
   ],
   "source": [
    "def foo(**dic):\n",
    "    print('arguments:', dic, 'type:', type(dic))\n",
    "foo(param=17, another_param='stam')\n",
    "# foo(1,2,'ori',False) # won't work "
   ]
  },
  {
   "cell_type": "code",
   "execution_count": 12,
   "metadata": {},
   "outputs": [
    {
     "name": "stdout",
     "output_type": "stream",
     "text": [
      "arguments: (1, 2, 'ori', False) type: <class 'tuple'>\n",
      "arguments: {} type: <class 'dict'>\n",
      "arguments: () type: <class 'tuple'>\n",
      "arguments: {'param': 17, 'another_param': 'stam'} type: <class 'dict'>\n"
     ]
    }
   ],
   "source": [
    "def foo( *ar, **dic):\n",
    "    print('arguments:', ar, 'type:', type(ar))\n",
    "    print('arguments:', dic, 'type:', type(dic))\n",
    "foo(1,2,'ori',False)\n",
    "foo(param=17, another_param='stam')\n"
   ]
  },
  {
   "cell_type": "markdown",
   "metadata": {},
   "source": [
    "### More general wrapped function "
   ]
  },
  {
   "cell_type": "code",
   "execution_count": 13,
   "metadata": {},
   "outputs": [],
   "source": [
    "def wrap(f, dec):\n",
    "    '''\n",
    "    f - a function that gets any number of arguments \n",
    "    dec - decoration string to print \n",
    "    return - a closure function... \n",
    "    '''\n",
    "    def wrapper(*ar, **dic):\n",
    "        print(ar,dic)\n",
    "        return dec + str(f(*ar, **dic)) + dec\n",
    "    return wrapper"
   ]
  },
  {
   "cell_type": "code",
   "execution_count": 14,
   "metadata": {},
   "outputs": [
    {
     "name": "stdout",
     "output_type": "stream",
     "text": [
      "(2,) {'y': 3}\n"
     ]
    },
    {
     "data": {
      "text/plain": [
       "'&5&'"
      ]
     },
     "execution_count": 14,
     "metadata": {},
     "output_type": "execute_result"
    }
   ],
   "source": [
    "sum = lambda x,y: x+y\n",
    "wrap(sum,'&')(2,y=3)"
   ]
  },
  {
   "cell_type": "code",
   "execution_count": 15,
   "metadata": {},
   "outputs": [
    {
     "name": "stdout",
     "output_type": "stream",
     "text": [
      "(1,) {'b': 2, 'c': 'ori'}\n"
     ]
    },
    {
     "data": {
      "text/plain": [
       "'hello3--------=?=orihello'"
      ]
     },
     "execution_count": 15,
     "metadata": {},
     "output_type": "execute_result"
    }
   ],
   "source": [
    "def foo(a,b,c):\n",
    "    return str(a+b)+'-'*8+'=?='+c\n",
    "w = wrap(foo, 'hello')\n",
    "w(1,b=2,c='ori')"
   ]
  },
  {
   "cell_type": "markdown",
   "metadata": {},
   "source": [
    "### Syntactic sugar for decorator "
   ]
  },
  {
   "cell_type": "code",
   "execution_count": 16,
   "metadata": {},
   "outputs": [],
   "source": [
    "def wrap2(f):\n",
    "    '''\n",
    "    f - a function that gets any number of arguments \n",
    "    return - a closure function... \n",
    "    '''\n",
    "    def wrapper(*ar, **dic):\n",
    "        dec = 'hello'\n",
    "        return dec + str(f(*ar, **dic)) + dec\n",
    "    return wrapper"
   ]
  },
  {
   "cell_type": "code",
   "execution_count": 17,
   "metadata": {},
   "outputs": [
    {
     "data": {
      "text/plain": [
       "'hellobyehello'"
      ]
     },
     "execution_count": 17,
     "metadata": {},
     "output_type": "execute_result"
    }
   ],
   "source": [
    "def foo():\n",
    "    return 'bye'\n",
    "w = wrap2(foo)\n",
    "w()"
   ]
  },
  {
   "cell_type": "code",
   "execution_count": 18,
   "metadata": {},
   "outputs": [
    {
     "data": {
      "text/plain": [
       "'hellobyehello'"
      ]
     },
     "execution_count": 18,
     "metadata": {},
     "output_type": "execute_result"
    }
   ],
   "source": [
    "@ wrap2\n",
    "def foo():\n",
    "    return 'bye'\n",
    "# w = wrap2(foo) # foo is alreay wrapped... \n",
    "foo()"
   ]
  },
  {
   "cell_type": "code",
   "execution_count": 19,
   "metadata": {},
   "outputs": [
    {
     "data": {
      "text/plain": [
       "'hello5hello'"
      ]
     },
     "execution_count": 19,
     "metadata": {},
     "output_type": "execute_result"
    }
   ],
   "source": [
    "@ wrap2\n",
    "def foo(a,b):\n",
    "    return str(a+b)\n",
    "foo(2,3)"
   ]
  },
  {
   "cell_type": "code",
   "execution_count": 20,
   "metadata": {},
   "outputs": [
    {
     "data": {
      "text/plain": [
       "'hello55hello'"
      ]
     },
     "execution_count": 20,
     "metadata": {},
     "output_type": "execute_result"
    }
   ],
   "source": [
    "@ wrap2\n",
    "def foo(*ar):\n",
    "    s = 0 \n",
    "    for x in ar:\n",
    "        s += x \n",
    "    return str(s)\n",
    "    \n",
    "foo(1,2,3,4,5,6,7,8,9,10)"
   ]
  },
  {
   "cell_type": "markdown",
   "metadata": {},
   "source": [
    "### Practicle example: timeit "
   ]
  },
  {
   "cell_type": "code",
   "execution_count": 21,
   "metadata": {},
   "outputs": [],
   "source": [
    "import time \n",
    "def my_timeit(f):\n",
    "    def inner(*ar, **dic): \n",
    "        start = time.time()\n",
    "        r = f(*ar, **dic)\n",
    "        print('took:', time.time()-start)\n",
    "        return r \n",
    "    return inner "
   ]
  },
  {
   "cell_type": "code",
   "execution_count": 22,
   "metadata": {},
   "outputs": [],
   "source": [
    "@my_timeit\n",
    "def foo(n):\n",
    "    s = 0 \n",
    "    for x in range(1, 10**n + 1):\n",
    "        s += x \n",
    "    return s \n"
   ]
  },
  {
   "cell_type": "code",
   "execution_count": 23,
   "metadata": {},
   "outputs": [
    {
     "name": "stdout",
     "output_type": "stream",
     "text": [
      "took: 2.1457672119140625e-06\n",
      "55\n",
      "took: 36.82187628746033\n",
      "500000000500000000\n",
      "done.\n"
     ]
    }
   ],
   "source": [
    "\n",
    "print(foo(1))\n",
    "print(foo(9)) # sum billion numbers \n",
    "print('done.')"
   ]
  },
  {
   "cell_type": "markdown",
   "metadata": {},
   "source": [
    "### Builtin timeit "
   ]
  },
  {
   "cell_type": "code",
   "execution_count": 31,
   "metadata": {},
   "outputs": [
    {
     "name": "stdout",
     "output_type": "stream",
     "text": [
      "took: 0.00040078163146972656\n",
      "took: 0.0003523826599121094\n",
      "took: 0.000370025634765625\n",
      "took: 0.0003848075866699219\n",
      "took: 0.00037288665771484375\n",
      "took: 0.0003745555877685547\n",
      "took: 0.0003781318664550781\n",
      "took: 0.0003724098205566406\n",
      "took: 0.0003685951232910156\n",
      "took: 0.00037169456481933594\n"
     ]
    },
    {
     "data": {
      "text/plain": [
       "0.003976984997279942"
      ]
     },
     "execution_count": 31,
     "metadata": {},
     "output_type": "execute_result"
    }
   ],
   "source": [
    "import timeit \n",
    "timeit.timeit('foo(4)', setup=\"from __main__ import foo\", number=10)"
   ]
  },
  {
   "cell_type": "code",
   "execution_count": 25,
   "metadata": {},
   "outputs": [
    {
     "name": "stdout",
     "output_type": "stream",
     "text": [
      "took: 0.00037288665771484375\n"
     ]
    },
    {
     "data": {
      "text/plain": [
       "50005000"
      ]
     },
     "execution_count": 25,
     "metadata": {},
     "output_type": "execute_result"
    }
   ],
   "source": [
    "foo(4)"
   ]
  },
  {
   "cell_type": "code",
   "execution_count": 26,
   "metadata": {},
   "outputs": [
    {
     "data": {
      "text/plain": [
       "0.02137557603418827"
      ]
     },
     "execution_count": 26,
     "metadata": {},
     "output_type": "execute_result"
    }
   ],
   "source": [
    "timeit.timeit('char in text', setup='text = \"sample string\"; char = \"g\"')"
   ]
  },
  {
   "cell_type": "code",
   "execution_count": null,
   "metadata": {},
   "outputs": [],
   "source": []
  }
 ],
 "metadata": {
  "kernelspec": {
   "display_name": "Python 3",
   "language": "python",
   "name": "python3"
  },
  "language_info": {
   "codemirror_mode": {
    "name": "ipython",
    "version": 3
   },
   "file_extension": ".py",
   "mimetype": "text/x-python",
   "name": "python",
   "nbconvert_exporter": "python",
   "pygments_lexer": "ipython3",
   "version": "3.6.9"
  }
 },
 "nbformat": 4,
 "nbformat_minor": 2
}
