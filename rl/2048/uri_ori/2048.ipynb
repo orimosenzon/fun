{
 "cells": [
  {
   "cell_type": "markdown",
   "id": "9c27c7b3",
   "metadata": {},
   "source": [
    "## The Game \n",
    "\n",
    "* [2048 in wikipeida](https://en.wikipedia.org/wiki/2048_(video_game) )\n",
    "\n",
    "* [Play online](https://2048game.com/)"
   ]
  },
  {
   "cell_type": "code",
   "execution_count": null,
   "id": "01fd1c9d",
   "metadata": {},
   "outputs": [],
   "source": []
  },
  {
   "cell_type": "markdown",
   "id": "d4f2beff",
   "metadata": {},
   "source": [
    "*[What is the Optimal Algorithm for the Game 2048?](https://www.baeldung.com/cs/2048-algorithm)\n",
    "\n",
    "When we start, the board will have two tiles in random locations, each of which either has a “2” or a “4” on it – each has an independent 10% chance of being a “4”, or otherwise a is a “2”.\n",
    "\n",
    "After we’ve made a move, a new tile will be placed onto the board. This is placed in a random location, and will be a “2” or a “4” in the same way as the initial tiles – “2” 90% of the time and “4” 10% of the time."
   ]
  }
 ],
 "metadata": {
  "kernelspec": {
   "display_name": "Python 3 (ipykernel)",
   "language": "python",
   "name": "python3"
  },
  "language_info": {
   "codemirror_mode": {
    "name": "ipython",
    "version": 3
   },
   "file_extension": ".py",
   "mimetype": "text/x-python",
   "name": "python",
   "nbconvert_exporter": "python",
   "pygments_lexer": "ipython3",
   "version": "3.9.5"
  }
 },
 "nbformat": 4,
 "nbformat_minor": 5
}
