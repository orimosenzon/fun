{
 "cells": [
  {
   "cell_type": "markdown",
   "id": "9c27c7b3",
   "metadata": {},
   "source": [
    "* [2048 in wikipeida](https://en.wikipedia.org/wiki/2048_(video_game))"
   ]
  },
  {
   "cell_type": "code",
   "execution_count": null,
   "id": "d4f2beff",
   "metadata": {},
   "outputs": [],
   "source": []
  }
 ],
 "metadata": {
  "kernelspec": {
   "display_name": "Python 3 (ipykernel)",
   "language": "python",
   "name": "python3"
  },
  "language_info": {
   "codemirror_mode": {
    "name": "ipython",
    "version": 3
   },
   "file_extension": ".py",
   "mimetype": "text/x-python",
   "name": "python",
   "nbconvert_exporter": "python",
   "pygments_lexer": "ipython3",
   "version": "3.9.5"
  }
 },
 "nbformat": 4,
 "nbformat_minor": 5
}
